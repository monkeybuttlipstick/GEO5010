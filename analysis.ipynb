{
 "cells": [
  {
   "cell_type": "code",
   "execution_count": 3,
   "metadata": {},
   "outputs": [],
   "source": [
    "import numpy as np\n",
    "from scipy.interpolate import griddata\n",
    "import rasterio\n",
    "from rasterio.transform import Affine\n",
    "from rasterio.crs import CRS\n"
   ]
  },
  {
   "cell_type": "code",
   "execution_count": 4,
   "metadata": {},
   "outputs": [],
   "source": [
    "def read_pts_off(file):\n",
    "    \n",
    "        \"\"\"Read points from an OFF file.\"\"\"\n",
    "    \n",
    "        f = open(file, 'r')\n",
    "        lines = f.readlines()\n",
    "        pts = []\n",
    "        for line in lines[2:]:\n",
    "            if len(line.split()[:]) == 3:\n",
    "                pts.append(list(np.float64(line.split()[:])))\n",
    "        return pts"
   ]
  },
  {
   "cell_type": "code",
   "execution_count": 14,
   "metadata": {},
   "outputs": [
    {
     "name": "stdout",
     "output_type": "stream",
     "text": [
      "[(5, 2, 9), (3, 7, 4), (8, 1, 6)]\n"
     ]
    }
   ],
   "source": [
    "lst = [[5, 3, 8], [2, 7, 1], [9, 4, 6]]\n",
    "\n",
    "transposed_lst = list(zip(*lst))\n",
    "\n",
    "smallest_in_each_col = [min(col) for col in transposed_lst]\n",
    "\n",
    "print(transposed_lst)  # Output: [2, 3, 1]"
   ]
  },
  {
   "cell_type": "code",
   "execution_count": 10,
   "metadata": {},
   "outputs": [
    {
     "name": "stdout",
     "output_type": "stream",
     "text": [
      "[[2, 7, 1], [5, 3, 8]]\n"
     ]
    }
   ],
   "source": [
    "print([min(lst, key=lambda x: x[0]), min(lst, key=lambda x: x[1])])"
   ]
  },
  {
   "cell_type": "code",
   "execution_count": null,
   "metadata": {},
   "outputs": [],
   "source": [
    "def read_tiff(file):\n",
    "    z = rasterio.open(file).read(1)"
   ]
  },
  {
   "cell_type": "code",
   "execution_count": 18,
   "metadata": {},
   "outputs": [],
   "source": [
    "def out_put_raster(pts, output_raster, cell_size):\n",
    "    \n",
    "    \"\"\"Output a raster file from a list of points.\"\"\"\n",
    "    \n",
    "    # Get the extent of the points\n",
    "    cell_size = 0.5\n",
    "    transposed_lst = list(zip(*pts))\n",
    "    x_range = np.arange(min(transposed_lst[0]), max(transposed_lst[0]) + cell_size, cell_size)\n",
    "    y_range = np.arange(min(transposed_lst[1]), max(transposed_lst[1]) + cell_size, cell_size)\n",
    "    grid_x, grid_y = np.meshgrid(x_range, y_range)\n",
    "    points = [lst[:-1] for lst in pts]\n",
    "    z = transposed_lst[2]\n",
    "    grid_z = griddata(points, z, (grid_x, grid_y), method='cubic')\n",
    "    # Set negative values to 0\n",
    "    grid_z[grid_z < 0] = 0\n",
    "    # Define transformation and CRS\n",
    "    transform = Affine.translation(grid_x[0][0]-cell_size/2, grid_y[0][0]-cell_size/2) * Affine.scale(cell_size, cell_size)\n",
    "    crs = CRS.from_epsg(2056)\n",
    "\n",
    "    # Write interpolated raster to file\n",
    "    interp_raster = rasterio.open(output_raster,\n",
    "                                'w',\n",
    "                                driver='GTiff',\n",
    "                                height=grid_z.shape[0],\n",
    "                                width=grid_z.shape[1],\n",
    "                                count=1,\n",
    "                                dtype=grid_z.dtype,\n",
    "                                crs=crs,\n",
    "                                transform=transform)\n",
    "    interp_raster.write(grid_z, 1)\n",
    "    interp_raster.close()"
   ]
  },
  {
   "cell_type": "code",
   "execution_count": 36,
   "metadata": {},
   "outputs": [],
   "source": [
    "pts = read_pts_off('edge_collapse_data/3_0.off')\n",
    "out_put_raster(pts, 'edge_collapse_data/3_0.tif', 0.5)"
   ]
  },
  {
   "cell_type": "code",
   "execution_count": 38,
   "metadata": {},
   "outputs": [],
   "source": [
    "pts_2 = read_pts_off(\"edge_collapse_data/5_0.off\")\n",
    "out_put_raster(pts_2, 'edge_collapse_data/5_0.tif', 2.0)"
   ]
  }
 ],
 "metadata": {
  "kernelspec": {
   "display_name": "gdal",
   "language": "python",
   "name": "python3"
  },
  "language_info": {
   "codemirror_mode": {
    "name": "ipython",
    "version": 3
   },
   "file_extension": ".py",
   "mimetype": "text/x-python",
   "name": "python",
   "nbconvert_exporter": "python",
   "pygments_lexer": "ipython3",
   "version": "3.8.18"
  }
 },
 "nbformat": 4,
 "nbformat_minor": 2
}
